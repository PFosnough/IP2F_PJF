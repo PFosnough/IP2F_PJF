{
 "cells": [
  {
   "cell_type": "markdown",
   "id": "2422be7c",
   "metadata": {},
   "source": [
    "# Peyton Fosnough"
   ]
  },
  {
   "cell_type": "markdown",
   "id": "1075611d",
   "metadata": {},
   "source": [
    "## Individual Project 2"
   ]
  },
  {
   "cell_type": "markdown",
   "id": "7f2fd6dd",
   "metadata": {},
   "source": [
    "## Version 1"
   ]
  },
  {
   "cell_type": "markdown",
   "id": "0d2cd048",
   "metadata": {},
   "source": [
    "## DS 160-01"
   ]
  },
  {
   "cell_type": "code",
   "execution_count": 4,
   "id": "01d65e54",
   "metadata": {},
   "outputs": [],
   "source": [
    "import numpy as np"
   ]
  },
  {
   "cell_type": "code",
   "execution_count": 5,
   "id": "207d12fe",
   "metadata": {},
   "outputs": [],
   "source": [
    "list=[10,20,30,40]\n",
    "array1=np.array(list)\n",
    "array1.resize(2,2)"
   ]
  },
  {
   "cell_type": "code",
   "execution_count": 6,
   "id": "e5338f31",
   "metadata": {},
   "outputs": [
    {
     "data": {
      "text/plain": [
       "array([[10, 20],\n",
       "       [30, 40]])"
      ]
     },
     "execution_count": 6,
     "metadata": {},
     "output_type": "execute_result"
    }
   ],
   "source": [
    "array1"
   ]
  },
  {
   "cell_type": "code",
   "execution_count": 7,
   "id": "df62631a",
   "metadata": {},
   "outputs": [
    {
     "data": {
      "text/plain": [
       "array([[ 100,  400],\n",
       "       [ 900, 1600]], dtype=int32)"
      ]
     },
     "execution_count": 7,
     "metadata": {},
     "output_type": "execute_result"
    }
   ],
   "source": [
    "# Square every element of array\n",
    "array1**2 "
   ]
  },
  {
   "cell_type": "code",
   "execution_count": 8,
   "id": "e46e9d0c",
   "metadata": {},
   "outputs": [
    {
     "data": {
      "text/plain": [
       "array([[ 50, 100],\n",
       "       [150, 200]])"
      ]
     },
     "execution_count": 8,
     "metadata": {},
     "output_type": "execute_result"
    }
   ],
   "source": [
    "# Multiple every element in array by 5\n",
    "array1*5"
   ]
  },
  {
   "cell_type": "code",
   "execution_count": 9,
   "id": "fa02031d",
   "metadata": {},
   "outputs": [
    {
     "data": {
      "text/plain": [
       "array([[3.16227766, 4.47213595],\n",
       "       [5.47722558, 6.32455532]])"
      ]
     },
     "execution_count": 9,
     "metadata": {},
     "output_type": "execute_result"
    }
   ],
   "source": [
    "# Square root of each element in array\n",
    "np.sqrt(array1)"
   ]
  },
  {
   "cell_type": "code",
   "execution_count": 10,
   "id": "26fb7007",
   "metadata": {},
   "outputs": [
    {
     "data": {
      "text/plain": [
       "array([[ 3,  6,  9],\n",
       "       [12, 15, 18],\n",
       "       [21, 24, 27]])"
      ]
     },
     "execution_count": 10,
     "metadata": {},
     "output_type": "execute_result"
    }
   ],
   "source": [
    "# 3x3 array from 3-27 counting by 3's\n",
    "array2=np.arange(3,28,3)\n",
    "array2.resize(3,3)\n",
    "array2"
   ]
  },
  {
   "cell_type": "code",
   "execution_count": 11,
   "id": "87878b32",
   "metadata": {},
   "outputs": [
    {
     "data": {
      "text/plain": [
       "array([[10.  , 11.25, 12.5 ],\n",
       "       [13.75, 15.  , 16.25],\n",
       "       [17.5 , 18.75, 20.  ]])"
      ]
     },
     "execution_count": 11,
     "metadata": {},
     "output_type": "execute_result"
    }
   ],
   "source": [
    "# 3x3 array with 9 elements evenly spaced betwen 10 - 20\n",
    "array3=np.linspace(10,20,9, True)\n",
    "array3.resize(3,3)\n",
    "array3"
   ]
  },
  {
   "cell_type": "code",
   "execution_count": 12,
   "id": "2a430d67",
   "metadata": {},
   "outputs": [
    {
     "data": {
      "text/plain": [
       "array([[ 30. ,  67.5, 112.5],\n",
       "       [165. , 225. , 292.5],\n",
       "       [367.5, 450. , 540. ]])"
      ]
     },
     "execution_count": 12,
     "metadata": {},
     "output_type": "execute_result"
    }
   ],
   "source": [
    "array4=array2*array3\n",
    "array4"
   ]
  },
  {
   "cell_type": "code",
   "execution_count": 13,
   "id": "adc74daa",
   "metadata": {},
   "outputs": [],
   "source": [
    "process1=np.load('process1.npy')\n",
    "process2=np.load('process2.npy')\n",
    "process3=np.load('process3.npy')\n",
    "process4=np.load('process4.npy')\n",
    "process5=np.load('process5.npy')"
   ]
  },
  {
   "cell_type": "code",
   "execution_count": 14,
   "id": "92546fbc",
   "metadata": {},
   "outputs": [
    {
     "name": "stdout",
     "output_type": "stream",
     "text": [
      "[[52 12 81  0 58]]\n",
      "[[96  4 61 16 43]]\n",
      "[[38 96 45 17 58]]\n",
      "[[97 21 22 25  6]]\n",
      "[[77  6 19  2 74]]\n"
     ]
    }
   ],
   "source": [
    "print(process1)\n",
    "print(process2)\n",
    "print(process3)\n",
    "print(process4)\n",
    "print(process5)"
   ]
  },
  {
   "cell_type": "code",
   "execution_count": 16,
   "id": "1a5aacb6",
   "metadata": {},
   "outputs": [],
   "source": [
    "Unified_Dataset=np.vstack((process1,process2,process3,process4,process5))"
   ]
  },
  {
   "cell_type": "code",
   "execution_count": 17,
   "id": "3e132bf5",
   "metadata": {},
   "outputs": [
    {
     "name": "stdout",
     "output_type": "stream",
     "text": [
      "[[52 12 81  0 58]\n",
      " [96  4 61 16 43]\n",
      " [38 96 45 17 58]\n",
      " [97 21 22 25  6]\n",
      " [77  6 19  2 74]]\n"
     ]
    }
   ],
   "source": [
    "print(Unified_Dataset)"
   ]
  },
  {
   "cell_type": "code",
   "execution_count": 18,
   "id": "8344c79b",
   "metadata": {},
   "outputs": [
    {
     "name": "stdout",
     "output_type": "stream",
     "text": [
      "The means for each process in order are  [72.  27.8 45.6 12.  47.8]\n"
     ]
    }
   ],
   "source": [
    "print(\"The means for each process in order are \",np.mean(Unified_Dataset, axis=0))"
   ]
  }
 ],
 "metadata": {
  "kernelspec": {
   "display_name": "Python 3",
   "language": "python",
   "name": "python3"
  },
  "language_info": {
   "codemirror_mode": {
    "name": "ipython",
    "version": 3
   },
   "file_extension": ".py",
   "mimetype": "text/x-python",
   "name": "python",
   "nbconvert_exporter": "python",
   "pygments_lexer": "ipython3",
   "version": "3.8.8"
  }
 },
 "nbformat": 4,
 "nbformat_minor": 5
}
